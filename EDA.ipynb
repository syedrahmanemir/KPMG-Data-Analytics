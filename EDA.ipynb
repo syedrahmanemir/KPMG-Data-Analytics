{
 "cells": [
  {
   "cell_type": "code",
   "execution_count": 264,
   "id": "c905c675",
   "metadata": {},
   "outputs": [],
   "source": [
    "import pandas as pd\n",
    "import numpy as np"
   ]
  },
  {
   "cell_type": "markdown",
   "id": "887b57a7",
   "metadata": {
    "heading_collapsed": true
   },
   "source": [
    "# Load Multiple Excel Worksheets in Pandas"
   ]
  },
  {
   "cell_type": "markdown",
   "id": "7e6aaa2a",
   "metadata": {
    "hidden": true
   },
   "source": [
    "Example:\n",
    "import pandas as pd  \n",
    "df = pd.read_excel('users.xlsx', sheet_name = [0,1,2])  \n",
    "df = pd.read_excel('users.xlsx', sheet_name = ['User_info','compound'])  \n",
    "df = pd.read_excel('users.xlsx', sheet_name = None)   \n",
    "Read all sheets  "
   ]
  },
  {
   "cell_type": "code",
   "execution_count": 265,
   "id": "dbf73fa4",
   "metadata": {
    "hidden": true
   },
   "outputs": [
    {
     "data": {
      "text/plain": [
       "dict_keys(['Title Sheet', 'Transactions', 'NewCustomerList', 'CustomerDemographic', 'CustomerAddress'])"
      ]
     },
     "execution_count": 265,
     "metadata": {},
     "output_type": "execute_result"
    }
   ],
   "source": [
    "# Define filepath\n",
    "filepath = 'KPMG_VI_New_raw_data_update_final.xlsx'\n",
    "\n",
    "# Load Excel file using Pandas with `sheet_name=None`\n",
    "df_dict = pd.read_excel(filepath, sheet_name=None)\n",
    "\n",
    "# Preview\n",
    "df_dict.keys()"
   ]
  },
  {
   "cell_type": "markdown",
   "id": "d029bca0",
   "metadata": {
    "hidden": true
   },
   "source": [
    "### CustomerDemographic"
   ]
  },
  {
   "cell_type": "code",
   "execution_count": 266,
   "id": "8969c4fc",
   "metadata": {
    "hidden": true,
    "scrolled": true
   },
   "outputs": [
    {
     "data": {
      "text/html": [
       "<div>\n",
       "<style scoped>\n",
       "    .dataframe tbody tr th:only-of-type {\n",
       "        vertical-align: middle;\n",
       "    }\n",
       "\n",
       "    .dataframe tbody tr th {\n",
       "        vertical-align: top;\n",
       "    }\n",
       "\n",
       "    .dataframe thead th {\n",
       "        text-align: right;\n",
       "    }\n",
       "</style>\n",
       "<table border=\"1\" class=\"dataframe\">\n",
       "  <thead>\n",
       "    <tr style=\"text-align: right;\">\n",
       "      <th></th>\n",
       "      <th>customer_id</th>\n",
       "      <th>first_name</th>\n",
       "      <th>last_name</th>\n",
       "      <th>gender</th>\n",
       "      <th>past_3_years_bike_related_purchases</th>\n",
       "      <th>DOB</th>\n",
       "      <th>job_title</th>\n",
       "      <th>job_industry_category</th>\n",
       "      <th>wealth_segment</th>\n",
       "      <th>deceased_indicator</th>\n",
       "      <th>default</th>\n",
       "      <th>owns_car</th>\n",
       "      <th>tenure</th>\n",
       "    </tr>\n",
       "  </thead>\n",
       "  <tbody>\n",
       "    <tr>\n",
       "      <th>0</th>\n",
       "      <td>1</td>\n",
       "      <td>Laraine</td>\n",
       "      <td>Medendorp</td>\n",
       "      <td>F</td>\n",
       "      <td>93</td>\n",
       "      <td>1953-10-12 00:00:00</td>\n",
       "      <td>Executive Secretary</td>\n",
       "      <td>Health</td>\n",
       "      <td>Mass Customer</td>\n",
       "      <td>N</td>\n",
       "      <td>\"'</td>\n",
       "      <td>Yes</td>\n",
       "      <td>11</td>\n",
       "    </tr>\n",
       "    <tr>\n",
       "      <th>1</th>\n",
       "      <td>2</td>\n",
       "      <td>Eli</td>\n",
       "      <td>Bockman</td>\n",
       "      <td>Male</td>\n",
       "      <td>81</td>\n",
       "      <td>1980-12-16 00:00:00</td>\n",
       "      <td>Administrative Officer</td>\n",
       "      <td>Financial Services</td>\n",
       "      <td>Mass Customer</td>\n",
       "      <td>N</td>\n",
       "      <td>&lt;script&gt;alert('hi')&lt;/script&gt;</td>\n",
       "      <td>Yes</td>\n",
       "      <td>16</td>\n",
       "    </tr>\n",
       "    <tr>\n",
       "      <th>2</th>\n",
       "      <td>3</td>\n",
       "      <td>Arlin</td>\n",
       "      <td>Dearle</td>\n",
       "      <td>Male</td>\n",
       "      <td>61</td>\n",
       "      <td>1954-01-20 00:00:00</td>\n",
       "      <td>Recruiting Manager</td>\n",
       "      <td>Property</td>\n",
       "      <td>Mass Customer</td>\n",
       "      <td>N</td>\n",
       "      <td>2018-02-01 00:00:00</td>\n",
       "      <td>Yes</td>\n",
       "      <td>15</td>\n",
       "    </tr>\n",
       "    <tr>\n",
       "      <th>3</th>\n",
       "      <td>4</td>\n",
       "      <td>Talbot</td>\n",
       "      <td>NaN</td>\n",
       "      <td>Male</td>\n",
       "      <td>33</td>\n",
       "      <td>1961-10-03 00:00:00</td>\n",
       "      <td>NaN</td>\n",
       "      <td>IT</td>\n",
       "      <td>Mass Customer</td>\n",
       "      <td>N</td>\n",
       "      <td>() { _; } &gt;_[$($())] { touch /tmp/blns.shellsh...</td>\n",
       "      <td>No</td>\n",
       "      <td>7</td>\n",
       "    </tr>\n",
       "    <tr>\n",
       "      <th>4</th>\n",
       "      <td>5</td>\n",
       "      <td>Sheila-kathryn</td>\n",
       "      <td>Calton</td>\n",
       "      <td>Female</td>\n",
       "      <td>56</td>\n",
       "      <td>1977-05-13 00:00:00</td>\n",
       "      <td>Senior Editor</td>\n",
       "      <td>NaN</td>\n",
       "      <td>Affluent Customer</td>\n",
       "      <td>N</td>\n",
       "      <td>NIL</td>\n",
       "      <td>Yes</td>\n",
       "      <td>8</td>\n",
       "    </tr>\n",
       "  </tbody>\n",
       "</table>\n",
       "</div>"
      ],
      "text/plain": [
       "  customer_id      first_name  last_name  gender  \\\n",
       "0           1         Laraine  Medendorp       F   \n",
       "1           2             Eli    Bockman    Male   \n",
       "2           3           Arlin     Dearle    Male   \n",
       "3           4          Talbot        NaN    Male   \n",
       "4           5  Sheila-kathryn     Calton  Female   \n",
       "\n",
       "  past_3_years_bike_related_purchases                  DOB  \\\n",
       "0                                  93  1953-10-12 00:00:00   \n",
       "1                                  81  1980-12-16 00:00:00   \n",
       "2                                  61  1954-01-20 00:00:00   \n",
       "3                                  33  1961-10-03 00:00:00   \n",
       "4                                  56  1977-05-13 00:00:00   \n",
       "\n",
       "                job_title job_industry_category     wealth_segment  \\\n",
       "0     Executive Secretary                Health      Mass Customer   \n",
       "1  Administrative Officer    Financial Services      Mass Customer   \n",
       "2      Recruiting Manager              Property      Mass Customer   \n",
       "3                     NaN                    IT      Mass Customer   \n",
       "4           Senior Editor                   NaN  Affluent Customer   \n",
       "\n",
       "  deceased_indicator                                            default  \\\n",
       "0                  N                                                 \"'   \n",
       "1                  N                       <script>alert('hi')</script>   \n",
       "2                  N                                2018-02-01 00:00:00   \n",
       "3                  N  () { _; } >_[$($())] { touch /tmp/blns.shellsh...   \n",
       "4                  N                                                NIL   \n",
       "\n",
       "  owns_car tenure  \n",
       "0      Yes     11  \n",
       "1      Yes     16  \n",
       "2      Yes     15  \n",
       "3       No      7  \n",
       "4      Yes      8  "
      ]
     },
     "execution_count": 266,
     "metadata": {},
     "output_type": "execute_result"
    }
   ],
   "source": [
    "# Selecting CustomerDemographic sheet\n",
    "df_Customer_Demographic =df_dict['CustomerDemographic']\n",
    "\n",
    "# changing first row to header\n",
    "df_Customer_Demographic.rename(columns=df_Customer_Demographic.iloc[0,:],inplace=True)\n",
    "\n",
    "# removing the first row which is already been used as header \n",
    "df_Customer_Demographic=df_Customer_Demographic.loc[1:].reset_index(drop=True)\n",
    "\n",
    "# droping columns with having each row as NaN\n",
    "df_Customer_Demographic = df_Customer_Demographic.dropna(axis=1,how='all')\n",
    "df_Customer_Demographic.head()"
   ]
  },
  {
   "cell_type": "code",
   "execution_count": 267,
   "id": "d27549a2",
   "metadata": {
    "hidden": true
   },
   "outputs": [
    {
     "name": "stdout",
     "output_type": "stream",
     "text": [
      "(4000, 13)\n",
      "customer_id                              0\n",
      "first_name                               0\n",
      "last_name                              125\n",
      "gender                                   0\n",
      "past_3_years_bike_related_purchases      0\n",
      "DOB                                     87\n",
      "job_title                              506\n",
      "job_industry_category                  656\n",
      "wealth_segment                           0\n",
      "deceased_indicator                       0\n",
      "default                                302\n",
      "owns_car                                 0\n",
      "tenure                                  87\n",
      "dtype: int64\n"
     ]
    }
   ],
   "source": [
    "print(df_Customer_Demographic.shape)\n",
    "print(df_Customer_Demographic.isnull().sum())"
   ]
  },
  {
   "cell_type": "markdown",
   "id": "111bfa8b",
   "metadata": {
    "heading_collapsed": true,
    "hidden": true
   },
   "source": [
    "#### gender"
   ]
  },
  {
   "cell_type": "code",
   "execution_count": 268,
   "id": "510ffaf2",
   "metadata": {
    "hidden": true
   },
   "outputs": [
    {
     "data": {
      "text/plain": [
       "Female    2037\n",
       "Male      1872\n",
       "U           88\n",
       "M            1\n",
       "Femal        1\n",
       "F            1\n",
       "Name: gender, dtype: int64"
      ]
     },
     "execution_count": 268,
     "metadata": {},
     "output_type": "execute_result"
    }
   ],
   "source": [
    "df_Customer_Demographic.gender.value_counts()"
   ]
  },
  {
   "cell_type": "code",
   "execution_count": 269,
   "id": "5ad9e426",
   "metadata": {
    "hidden": true
   },
   "outputs": [],
   "source": [
    "df_Customer_Demographic['gender'].mask(df_Customer_Demographic['gender']=='M','Male',inplace=True)\n",
    "df_Customer_Demographic['gender'].mask(df_Customer_Demographic['gender']=='F','Female',inplace=True)\n",
    "df_Customer_Demographic['gender'].mask(df_Customer_Demographic['gender']=='Femal','Female',inplace=True)\n",
    "df_Customer_Demographic['gender'].mask(df_Customer_Demographic['gender']=='U','Unknown',inplace=True)"
   ]
  },
  {
   "cell_type": "code",
   "execution_count": 270,
   "id": "c246e6d2",
   "metadata": {
    "hidden": true
   },
   "outputs": [
    {
     "data": {
      "text/plain": [
       "Female     2039\n",
       "Male       1873\n",
       "Unknown      88\n",
       "Name: gender, dtype: int64"
      ]
     },
     "execution_count": 270,
     "metadata": {},
     "output_type": "execute_result"
    }
   ],
   "source": [
    "df_Customer_Demographic.gender.value_counts()"
   ]
  },
  {
   "cell_type": "markdown",
   "id": "6358a1e5",
   "metadata": {
    "hidden": true
   },
   "source": [
    "#### past_3_years_bike_related_purchases"
   ]
  },
  {
   "cell_type": "code",
   "execution_count": 271,
   "id": "c97da84d",
   "metadata": {
    "hidden": true
   },
   "outputs": [
    {
     "data": {
      "text/plain": [
       "count     4000\n",
       "unique     100\n",
       "top         19\n",
       "freq        56\n",
       "Name: past_3_years_bike_related_purchases, dtype: int64"
      ]
     },
     "execution_count": 271,
     "metadata": {},
     "output_type": "execute_result"
    }
   ],
   "source": [
    "df_Customer_Demographic['past_3_years_bike_related_purchases'].describe()"
   ]
  },
  {
   "cell_type": "markdown",
   "id": "57d8b2bd",
   "metadata": {
    "heading_collapsed": true,
    "hidden": true
   },
   "source": [
    "#### DOB                                     "
   ]
  },
  {
   "cell_type": "markdown",
   "id": "1b72f3a5",
   "metadata": {
    "hidden": true
   },
   "source": [
    "Calculating age of the customer using the Date of birth"
   ]
  },
  {
   "cell_type": "code",
   "execution_count": 272,
   "id": "3aabb023",
   "metadata": {
    "hidden": true
   },
   "outputs": [],
   "source": [
    "from datetime import date\n",
    " \n",
    "def age(birthdate):\n",
    "    today = date.today()\n",
    "    age = today.year - birthdate.year - ((today.month, today.day) < (birthdate.month, birthdate.day))\n",
    "    return age"
   ]
  },
  {
   "cell_type": "code",
   "execution_count": 273,
   "id": "332d647b",
   "metadata": {
    "hidden": true
   },
   "outputs": [],
   "source": [
    "#First you need to define the format of date column.\n",
    "df_Customer_Demographic['DOB'] = pd.to_datetime(df_Customer_Demographic['DOB'], format='%Y-%m-%d %H:%M:%S')"
   ]
  },
  {
   "cell_type": "code",
   "execution_count": 274,
   "id": "b19473e8",
   "metadata": {
    "hidden": true
   },
   "outputs": [],
   "source": [
    "df_Customer_Demographic['Age']=df_Customer_Demographic['DOB'].apply(lambda x : age(x))"
   ]
  },
  {
   "cell_type": "code",
   "execution_count": 275,
   "id": "618764b7",
   "metadata": {
    "hidden": true
   },
   "outputs": [],
   "source": [
    "def age_group(age):\n",
    "    if age>=0 and age<11:\n",
    "        return 'below 10'\n",
    "    if age>=10 and age<21:\n",
    "        return '10s'\n",
    "    if age>=20 and age<30:\n",
    "        return '20s'\n",
    "    if age>=30 and age<40:\n",
    "        return '30s'\n",
    "    if age>=40 and age<50:\n",
    "        return '40s'\n",
    "    if age>=50 and age<60:\n",
    "        return '50s'\n",
    "    if age>=60 and age<70:\n",
    "        return '60s'\n",
    "    if age>=70 and age<80:\n",
    "        return '70s'\n",
    "    if age>=80 and age<90:\n",
    "        return '80s'\n",
    "    if age>=90 and age<100:\n",
    "        return '90s'\n",
    "    "
   ]
  },
  {
   "cell_type": "code",
   "execution_count": 276,
   "id": "364df6d4",
   "metadata": {
    "hidden": true
   },
   "outputs": [],
   "source": [
    "df_Customer_Demographic['Age_group']=df_Customer_Demographic['Age'].apply(lambda x : age_group(x))"
   ]
  },
  {
   "cell_type": "code",
   "execution_count": 277,
   "id": "e0b9b577",
   "metadata": {
    "hidden": true
   },
   "outputs": [
    {
     "data": {
      "text/plain": [
       "40s    1320\n",
       "50s     704\n",
       "30s     682\n",
       "60s     624\n",
       "20s     576\n",
       "80s       2\n",
       "70s       2\n",
       "90s       1\n",
       "10s       1\n",
       "Name: Age_group, dtype: int64"
      ]
     },
     "execution_count": 277,
     "metadata": {},
     "output_type": "execute_result"
    }
   ],
   "source": [
    "df_Customer_Demographic['Age_group'].value_counts(sort=True)"
   ]
  },
  {
   "cell_type": "markdown",
   "id": "b74aabab",
   "metadata": {
    "hidden": true
   },
   "source": [
    "#### job_title                              "
   ]
  },
  {
   "cell_type": "markdown",
   "id": "9cb8c148",
   "metadata": {
    "hidden": true
   },
   "source": [
    "There is 195 types of job tittle."
   ]
  },
  {
   "cell_type": "code",
   "execution_count": 278,
   "id": "0b607d95",
   "metadata": {
    "hidden": true
   },
   "outputs": [
    {
     "data": {
      "text/plain": [
       "array(['Executive Secretary', 'Administrative Officer',\n",
       "       'Recruiting Manager', nan, 'Senior Editor', 'Media Manager I',\n",
       "       'Business Systems Development Analyst', 'Senior Quality Engineer',\n",
       "       'Nuclear Power Engineer', 'Developer I', 'Account Executive',\n",
       "       'Junior Executive', 'Media Manager IV', 'Sales Associate',\n",
       "       'Professor', 'Geological Engineer', 'Project Manager',\n",
       "       'Safety Technician I', 'Research Assistant I',\n",
       "       'Accounting Assistant III', 'Editor', 'Research Nurse',\n",
       "       'Safety Technician III', 'Staff Accountant III', 'Legal Assistant',\n",
       "       'Product Engineer', 'Information Systems Manager',\n",
       "       'VP Quality Control', 'Social Worker', 'Senior Cost Accountant',\n",
       "       'Assistant Media Planner', 'Payment Adjustment Coordinator',\n",
       "       'Food Chemist', 'Accountant III', 'Director of Sales',\n",
       "       'Senior Financial Analyst', 'Registered Nurse',\n",
       "       'Biostatistician II', 'Computer Systems Analyst II',\n",
       "       'Software Test Engineer II', 'Paralegal', 'VP Sales',\n",
       "       'Chief Design Engineer', 'Office Assistant III',\n",
       "       'Physical Therapy Assistant', 'Help Desk Operator',\n",
       "       'Web Developer II', 'Research Associate', 'Teacher',\n",
       "       'VP Product Management', 'Statistician II',\n",
       "       'Automation Specialist IV', 'Data Coordiator',\n",
       "       'Software Test Engineer III', 'Internal Auditor',\n",
       "       'Analyst Programmer', 'Occupational Therapist',\n",
       "       'Speech Pathologist', 'Quality Control Specialist',\n",
       "       'Civil Engineer', 'Software Engineer III',\n",
       "       'Community Outreach Specialist', 'Safety Technician IV',\n",
       "       'VP Accounting', 'General Manager', 'Nurse Practicioner',\n",
       "       'Automation Specialist II', 'Marketing Assistant',\n",
       "       'Marketing Manager', 'Staff Scientist', 'Assistant Professor',\n",
       "       'Budget/Accounting Analyst IV', 'Associate Professor',\n",
       "       'Graphic Designer', 'Administrative Assistant II',\n",
       "       'Compensation Analyst', 'Systems Administrator III',\n",
       "       'Financial Advisor', 'Chemical Engineer', 'Web Designer I',\n",
       "       'Senior Developer', 'Office Assistant II', 'Recruiter', 'Operator',\n",
       "       'Programmer Analyst III', 'Quality Engineer', 'Environmental Tech',\n",
       "       'Analog Circuit Design manager', 'Cost Accountant', 'Librarian',\n",
       "       'Structural Analysis Engineer', 'Pharmacist', 'Assistant Manager',\n",
       "       'Accountant I', 'Web Designer III', 'Geologist III',\n",
       "       'Software Test Engineer I', 'Structural Engineer',\n",
       "       'Safety Technician II', 'Web Developer III',\n",
       "       'Programmer Analyst II', 'Design Engineer', 'Statistician I',\n",
       "       'VP Marketing', 'Desktop Support Technician', 'Actuary',\n",
       "       'Database Administrator III', 'Electrical Engineer',\n",
       "       'Tax Accountant', 'Clinical Specialist',\n",
       "       'Database Administrator IV', 'Systems Administrator II',\n",
       "       'Account Coordinator', 'Programmer III',\n",
       "       'Administrative Assistant III', 'Nurse', 'Technical Writer',\n",
       "       'Staff Accountant II', 'Dental Hygienist', 'Sales Representative',\n",
       "       'Budget/Accounting Analyst III', 'Computer Systems Analyst IV',\n",
       "       'Geologist I', 'Financial Analyst', 'Accounting Assistant II',\n",
       "       'Senior Sales Associate', 'Database Administrator II',\n",
       "       'Engineer I', 'Budget/Accounting Analyst I', 'Developer IV',\n",
       "       'Database Administrator I', 'Environmental Specialist',\n",
       "       'Computer Systems Analyst I', 'Account Representative IV',\n",
       "       'Statistician IV', 'Human Resources Manager',\n",
       "       'GIS Technical Architect', 'Programmer IV',\n",
       "       'Accounting Assistant IV', 'Software Engineer IV', 'Programmer II',\n",
       "       'Engineer III', 'Software Consultant', 'Biostatistician IV',\n",
       "       'Help Desk Technician', 'Automation Specialist I', 'Developer III',\n",
       "       'Human Resources Assistant I', 'Geologist IV', 'Media Manager II',\n",
       "       'Statistician III', 'Engineer II', 'Health Coach II',\n",
       "       'Developer II', 'Systems Administrator I', 'Web Developer I',\n",
       "       'Software Engineer II', 'Accounting Assistant I',\n",
       "       'Research Assistant II', 'Programmer Analyst IV', 'Health Coach I',\n",
       "       'Accountant II', 'Automation Specialist III',\n",
       "       'Administrative Assistant I', 'Health Coach IV',\n",
       "       'Media Manager III', 'Account Representative III',\n",
       "       'Web Designer IV', 'Budget/Accounting Analyst II',\n",
       "       'Web Developer IV', 'Programmer I', 'Biostatistician III',\n",
       "       'Software Test Engineer IV', 'Research Assistant IV',\n",
       "       'Account Representative I', 'Accountant IV', 'Biostatistician I',\n",
       "       'Human Resources Assistant IV', 'Administrative Assistant IV',\n",
       "       'Office Assistant I', 'Human Resources Assistant II',\n",
       "       'Mechanical Systems Engineer', 'Engineer IV', 'Health Coach III',\n",
       "       'Office Assistant IV', 'Software Engineer I',\n",
       "       'Human Resources Assistant III', 'Staff Accountant I',\n",
       "       'Computer Systems Analyst III', 'Geologist II', 'Web Designer II',\n",
       "       'Staff Accountant IV', 'Account Representative II',\n",
       "       'Programmer Analyst I', 'Systems Administrator IV',\n",
       "       'Research Assistant III'], dtype=object)"
      ]
     },
     "execution_count": 278,
     "metadata": {},
     "output_type": "execute_result"
    }
   ],
   "source": [
    "df_Customer_Demographic['job_title'].unique()"
   ]
  },
  {
   "cell_type": "markdown",
   "id": "4a160fc1",
   "metadata": {
    "hidden": true
   },
   "source": [
    "#### job_industry_category                  "
   ]
  },
  {
   "cell_type": "markdown",
   "id": "0958d86e",
   "metadata": {
    "hidden": true
   },
   "source": [
    "There is 9 types of job_industry_category."
   ]
  },
  {
   "cell_type": "code",
   "execution_count": 279,
   "id": "e9169737",
   "metadata": {
    "hidden": true
   },
   "outputs": [
    {
     "data": {
      "text/plain": [
       "array(['Health', 'Financial Services', 'Property', 'IT', nan, 'Retail',\n",
       "       'Argiculture', 'Manufacturing', 'Telecommunications',\n",
       "       'Entertainment'], dtype=object)"
      ]
     },
     "execution_count": 279,
     "metadata": {},
     "output_type": "execute_result"
    }
   ],
   "source": [
    "df_Customer_Demographic['job_industry_category'].unique()"
   ]
  },
  {
   "cell_type": "markdown",
   "id": "cc6e454b",
   "metadata": {
    "hidden": true
   },
   "source": [
    "#### wealth_segment                           "
   ]
  },
  {
   "cell_type": "code",
   "execution_count": 280,
   "id": "6eef7f32",
   "metadata": {
    "hidden": true
   },
   "outputs": [
    {
     "data": {
      "text/plain": [
       "Mass Customer        2000\n",
       "High Net Worth       1021\n",
       "Affluent Customer     979\n",
       "Name: wealth_segment, dtype: int64"
      ]
     },
     "execution_count": 280,
     "metadata": {},
     "output_type": "execute_result"
    }
   ],
   "source": [
    "df_Customer_Demographic['wealth_segment'].value_counts()"
   ]
  },
  {
   "cell_type": "markdown",
   "id": "60a90862",
   "metadata": {
    "hidden": true
   },
   "source": [
    "#### deceased_indicator                       "
   ]
  },
  {
   "cell_type": "code",
   "execution_count": 281,
   "id": "9ee60193",
   "metadata": {
    "hidden": true
   },
   "outputs": [
    {
     "data": {
      "text/plain": [
       "N    3998\n",
       "Y       2\n",
       "Name: deceased_indicator, dtype: int64"
      ]
     },
     "execution_count": 281,
     "metadata": {},
     "output_type": "execute_result"
    }
   ],
   "source": [
    "df_Customer_Demographic['deceased_indicator'].value_counts()"
   ]
  },
  {
   "cell_type": "markdown",
   "id": "3409280e",
   "metadata": {
    "hidden": true
   },
   "source": [
    "#### default"
   ]
  },
  {
   "cell_type": "markdown",
   "id": "34cdcf85",
   "metadata": {
    "hidden": true
   },
   "source": [
    "Removing the default column from the dataset as it contains symboles and doesn't add value to data."
   ]
  },
  {
   "cell_type": "code",
   "execution_count": 282,
   "id": "e593ec66",
   "metadata": {
    "hidden": true
   },
   "outputs": [],
   "source": [
    "df_Customer_Demographic.drop('default',inplace=True,axis=1)"
   ]
  },
  {
   "cell_type": "markdown",
   "id": "11df2606",
   "metadata": {
    "hidden": true
   },
   "source": [
    "#### owns_car"
   ]
  },
  {
   "cell_type": "code",
   "execution_count": 283,
   "id": "2a9bb542",
   "metadata": {
    "hidden": true
   },
   "outputs": [
    {
     "data": {
      "text/plain": [
       "Yes    2024\n",
       "No     1976\n",
       "Name: owns_car, dtype: int64"
      ]
     },
     "execution_count": 283,
     "metadata": {},
     "output_type": "execute_result"
    }
   ],
   "source": [
    "df_Customer_Demographic['owns_car'].value_counts()"
   ]
  },
  {
   "cell_type": "markdown",
   "id": "0433257b",
   "metadata": {
    "hidden": true
   },
   "source": [
    "#### tenure"
   ]
  },
  {
   "cell_type": "code",
   "execution_count": 284,
   "id": "99c10eb4",
   "metadata": {
    "hidden": true
   },
   "outputs": [
    {
     "data": {
      "text/plain": [
       "1     166\n",
       "2     150\n",
       "3     160\n",
       "4     191\n",
       "5     228\n",
       "6     192\n",
       "7     235\n",
       "8     211\n",
       "9     200\n",
       "10    218\n",
       "11    221\n",
       "12    202\n",
       "13    191\n",
       "14    200\n",
       "15    179\n",
       "16    215\n",
       "17    182\n",
       "18    208\n",
       "19    159\n",
       "20     96\n",
       "21     54\n",
       "22     55\n",
       "Name: tenure, dtype: int64"
      ]
     },
     "execution_count": 284,
     "metadata": {},
     "output_type": "execute_result"
    }
   ],
   "source": [
    "df_Customer_Demographic['tenure'].value_counts(sort=False)"
   ]
  },
  {
   "cell_type": "code",
   "execution_count": null,
   "id": "d6d80d1e",
   "metadata": {
    "hidden": true
   },
   "outputs": [],
   "source": []
  },
  {
   "cell_type": "code",
   "execution_count": 285,
   "id": "98de2d5e",
   "metadata": {
    "hidden": true
   },
   "outputs": [
    {
     "name": "stdout",
     "output_type": "stream",
     "text": [
      "*********************************\n",
      "1       1\n",
      "2672    1\n",
      "2659    1\n",
      "2660    1\n",
      "2661    1\n",
      "       ..\n",
      "1339    1\n",
      "1340    1\n",
      "1341    1\n",
      "1342    1\n",
      "4000    1\n",
      "Name: customer_id, Length: 4000, dtype: int64\n",
      "*********************************\n",
      "Tobe        5\n",
      "Max         5\n",
      "Timmie      5\n",
      "Kim         4\n",
      "Kippy       4\n",
      "           ..\n",
      "Dominick    1\n",
      "Arv         1\n",
      "Jeniffer    1\n",
      "Faustine    1\n",
      "Baily       1\n",
      "Name: first_name, Length: 3139, dtype: int64\n",
      "*********************************\n",
      "Ramsdell     3\n",
      "Pristnor     3\n",
      "Dahle        2\n",
      "Haresign     2\n",
      "Capper       2\n",
      "            ..\n",
      "Ors          1\n",
      "Fullbrook    1\n",
      "Suero        1\n",
      "Groucock     1\n",
      "Bestar       1\n",
      "Name: last_name, Length: 3725, dtype: int64\n",
      "*********************************\n",
      "Female     2039\n",
      "Male       1873\n",
      "Unknown      88\n",
      "Name: gender, dtype: int64\n",
      "*********************************\n",
      "19    56\n",
      "16    56\n",
      "67    54\n",
      "20    54\n",
      "2     50\n",
      "      ..\n",
      "8     28\n",
      "85    27\n",
      "95    27\n",
      "86    27\n",
      "92    24\n",
      "Name: past_3_years_bike_related_purchases, Length: 100, dtype: int64\n",
      "*********************************\n",
      "1978-01-30    7\n",
      "1978-08-19    4\n",
      "1964-07-08    4\n",
      "1976-09-25    4\n",
      "1976-07-16    4\n",
      "             ..\n",
      "2001-01-22    1\n",
      "1955-03-06    1\n",
      "1966-08-05    1\n",
      "1968-11-16    1\n",
      "1958-08-02    1\n",
      "Name: DOB, Length: 3448, dtype: int64\n",
      "*********************************\n",
      "Business Systems Development Analyst    45\n",
      "Social Worker                           44\n",
      "Tax Accountant                          44\n",
      "Internal Auditor                        42\n",
      "Legal Assistant                         41\n",
      "                                        ..\n",
      "Geologist II                             4\n",
      "Health Coach I                           3\n",
      "Research Assistant III                   3\n",
      "Health Coach III                         3\n",
      "Developer I                              1\n",
      "Name: job_title, Length: 195, dtype: int64\n",
      "*********************************\n",
      "Manufacturing         799\n",
      "Financial Services    774\n",
      "Health                602\n",
      "Retail                358\n",
      "Property              267\n",
      "IT                    223\n",
      "Entertainment         136\n",
      "Argiculture           113\n",
      "Telecommunications     72\n",
      "Name: job_industry_category, dtype: int64\n",
      "*********************************\n",
      "Mass Customer        2000\n",
      "High Net Worth       1021\n",
      "Affluent Customer     979\n",
      "Name: wealth_segment, dtype: int64\n",
      "*********************************\n",
      "N    3998\n",
      "Y       2\n",
      "Name: deceased_indicator, dtype: int64\n",
      "*********************************\n",
      "Yes    2024\n",
      "No     1976\n",
      "Name: owns_car, dtype: int64\n",
      "*********************************\n",
      "7     235\n",
      "5     228\n",
      "11    221\n",
      "10    218\n",
      "16    215\n",
      "8     211\n",
      "18    208\n",
      "12    202\n",
      "9     200\n",
      "14    200\n",
      "6     192\n",
      "4     191\n",
      "13    191\n",
      "17    182\n",
      "15    179\n",
      "1     166\n",
      "3     160\n",
      "19    159\n",
      "2     150\n",
      "20     96\n",
      "22     55\n",
      "21     54\n",
      "Name: tenure, dtype: int64\n",
      "*********************************\n",
      "45.0     221\n",
      "44.0     190\n",
      "46.0     163\n",
      "48.0     141\n",
      "49.0     133\n",
      "42.0     129\n",
      "47.0     121\n",
      "43.0     109\n",
      "36.0     100\n",
      "37.0      93\n",
      "63.0      91\n",
      "28.0      90\n",
      "33.0      85\n",
      "30.0      81\n",
      "35.0      80\n",
      "58.0      78\n",
      "51.0      77\n",
      "24.0      76\n",
      "53.0      76\n",
      "57.0      76\n",
      "27.0      76\n",
      "25.0      75\n",
      "26.0      71\n",
      "55.0      70\n",
      "54.0      69\n",
      "65.0      68\n",
      "66.0      68\n",
      "41.0      68\n",
      "56.0      67\n",
      "60.0      67\n",
      "59.0      66\n",
      "34.0      65\n",
      "61.0      64\n",
      "52.0      63\n",
      "68.0      62\n",
      "50.0      62\n",
      "23.0      61\n",
      "62.0      60\n",
      "64.0      60\n",
      "29.0      57\n",
      "38.0      56\n",
      "67.0      52\n",
      "32.0      45\n",
      "40.0      45\n",
      "31.0      44\n",
      "22.0      36\n",
      "21.0      34\n",
      "39.0      33\n",
      "69.0      32\n",
      "79.0       2\n",
      "91.0       1\n",
      "20.0       1\n",
      "87.0       1\n",
      "82.0       1\n",
      "179.0      1\n",
      "Name: Age, dtype: int64\n",
      "*********************************\n",
      "40s    1320\n",
      "50s     704\n",
      "30s     682\n",
      "60s     624\n",
      "20s     576\n",
      "80s       2\n",
      "70s       2\n",
      "90s       1\n",
      "10s       1\n",
      "Name: Age_group, dtype: int64\n"
     ]
    }
   ],
   "source": [
    "for i in df_Customer_Demographic.columns:\n",
    "    print('*********************************')\n",
    "    print(df_Customer_Demographic[i].value_counts())"
   ]
  },
  {
   "cell_type": "markdown",
   "id": "f2c23732",
   "metadata": {
    "hidden": true
   },
   "source": [
    "### CustomerAddress"
   ]
  },
  {
   "cell_type": "code",
   "execution_count": 286,
   "id": "942067d6",
   "metadata": {
    "hidden": true
   },
   "outputs": [
    {
     "data": {
      "text/html": [
       "<div>\n",
       "<style scoped>\n",
       "    .dataframe tbody tr th:only-of-type {\n",
       "        vertical-align: middle;\n",
       "    }\n",
       "\n",
       "    .dataframe tbody tr th {\n",
       "        vertical-align: top;\n",
       "    }\n",
       "\n",
       "    .dataframe thead th {\n",
       "        text-align: right;\n",
       "    }\n",
       "</style>\n",
       "<table border=\"1\" class=\"dataframe\">\n",
       "  <thead>\n",
       "    <tr style=\"text-align: right;\">\n",
       "      <th></th>\n",
       "      <th>customer_id</th>\n",
       "      <th>address</th>\n",
       "      <th>postcode</th>\n",
       "      <th>state</th>\n",
       "      <th>country</th>\n",
       "      <th>property_valuation</th>\n",
       "    </tr>\n",
       "  </thead>\n",
       "  <tbody>\n",
       "    <tr>\n",
       "      <th>0</th>\n",
       "      <td>1</td>\n",
       "      <td>060 Morning Avenue</td>\n",
       "      <td>2016</td>\n",
       "      <td>New South Wales</td>\n",
       "      <td>Australia</td>\n",
       "      <td>10</td>\n",
       "    </tr>\n",
       "    <tr>\n",
       "      <th>1</th>\n",
       "      <td>2</td>\n",
       "      <td>6 Meadow Vale Court</td>\n",
       "      <td>2153</td>\n",
       "      <td>New South Wales</td>\n",
       "      <td>Australia</td>\n",
       "      <td>10</td>\n",
       "    </tr>\n",
       "    <tr>\n",
       "      <th>2</th>\n",
       "      <td>4</td>\n",
       "      <td>0 Holy Cross Court</td>\n",
       "      <td>4211</td>\n",
       "      <td>QLD</td>\n",
       "      <td>Australia</td>\n",
       "      <td>9</td>\n",
       "    </tr>\n",
       "    <tr>\n",
       "      <th>3</th>\n",
       "      <td>5</td>\n",
       "      <td>17979 Del Mar Point</td>\n",
       "      <td>2448</td>\n",
       "      <td>New South Wales</td>\n",
       "      <td>Australia</td>\n",
       "      <td>4</td>\n",
       "    </tr>\n",
       "    <tr>\n",
       "      <th>4</th>\n",
       "      <td>6</td>\n",
       "      <td>9 Oakridge Court</td>\n",
       "      <td>3216</td>\n",
       "      <td>VIC</td>\n",
       "      <td>Australia</td>\n",
       "      <td>9</td>\n",
       "    </tr>\n",
       "  </tbody>\n",
       "</table>\n",
       "</div>"
      ],
      "text/plain": [
       "  customer_id              address postcode            state    country  \\\n",
       "0           1   060 Morning Avenue     2016  New South Wales  Australia   \n",
       "1           2  6 Meadow Vale Court     2153  New South Wales  Australia   \n",
       "2           4   0 Holy Cross Court     4211              QLD  Australia   \n",
       "3           5  17979 Del Mar Point     2448  New South Wales  Australia   \n",
       "4           6     9 Oakridge Court     3216              VIC  Australia   \n",
       "\n",
       "  property_valuation  \n",
       "0                 10  \n",
       "1                 10  \n",
       "2                  9  \n",
       "3                  4  \n",
       "4                  9  "
      ]
     },
     "execution_count": 286,
     "metadata": {},
     "output_type": "execute_result"
    }
   ],
   "source": [
    "# Selecting CustomerAddress sheet\n",
    "df_CustomerAddress =df_dict['CustomerAddress']\n",
    "\n",
    "# changing first row to header\n",
    "df_CustomerAddress.rename(columns=df_CustomerAddress.iloc[0,:],inplace=True)\n",
    "\n",
    "## removing the first row which is already been used as header and selecting the starting 6 rows which contains the data\n",
    "df_CustomerAddress=df_CustomerAddress.loc[1:,].reset_index(drop=True).iloc[:,:6]\n",
    "df_CustomerAddress.head()"
   ]
  },
  {
   "cell_type": "code",
   "execution_count": 287,
   "id": "14628695",
   "metadata": {
    "hidden": true
   },
   "outputs": [
    {
     "name": "stdout",
     "output_type": "stream",
     "text": [
      "(3999, 6)\n",
      "customer_id           0\n",
      "address               0\n",
      "postcode              0\n",
      "state                 0\n",
      "country               0\n",
      "property_valuation    0\n",
      "dtype: int64\n"
     ]
    }
   ],
   "source": [
    "print(df_CustomerAddress.shape)\n",
    "print(df_CustomerAddress.isnull().sum())"
   ]
  },
  {
   "cell_type": "code",
   "execution_count": 288,
   "id": "a77c1db9",
   "metadata": {
    "hidden": true,
    "scrolled": true
   },
   "outputs": [
    {
     "data": {
      "text/html": [
       "<div>\n",
       "<style scoped>\n",
       "    .dataframe tbody tr th:only-of-type {\n",
       "        vertical-align: middle;\n",
       "    }\n",
       "\n",
       "    .dataframe tbody tr th {\n",
       "        vertical-align: top;\n",
       "    }\n",
       "\n",
       "    .dataframe thead th {\n",
       "        text-align: right;\n",
       "    }\n",
       "</style>\n",
       "<table border=\"1\" class=\"dataframe\">\n",
       "  <thead>\n",
       "    <tr style=\"text-align: right;\">\n",
       "      <th></th>\n",
       "      <th>customer_id</th>\n",
       "      <th>address</th>\n",
       "      <th>postcode</th>\n",
       "      <th>state</th>\n",
       "      <th>country</th>\n",
       "      <th>property_valuation</th>\n",
       "    </tr>\n",
       "  </thead>\n",
       "  <tbody>\n",
       "  </tbody>\n",
       "</table>\n",
       "</div>"
      ],
      "text/plain": [
       "Empty DataFrame\n",
       "Columns: [customer_id, address, postcode, state, country, property_valuation]\n",
       "Index: []"
      ]
     },
     "execution_count": 288,
     "metadata": {},
     "output_type": "execute_result"
    }
   ],
   "source": [
    "duplicate = df_CustomerAddress[df_CustomerAddress.duplicated()]\n",
    "duplicate"
   ]
  },
  {
   "cell_type": "markdown",
   "id": "717d7ad5",
   "metadata": {
    "hidden": true
   },
   "source": [
    "#### postcode"
   ]
  },
  {
   "cell_type": "code",
   "execution_count": 289,
   "id": "91b527b6",
   "metadata": {
    "hidden": true
   },
   "outputs": [
    {
     "data": {
      "text/plain": [
       "2170    31\n",
       "2155    30\n",
       "2145    30\n",
       "2153    29\n",
       "2770    26\n",
       "2560    26\n",
       "3977    26\n",
       "2065    25\n",
       "2763    22\n",
       "2250    22\n",
       "Name: postcode, dtype: int64"
      ]
     },
     "execution_count": 289,
     "metadata": {},
     "output_type": "execute_result"
    }
   ],
   "source": [
    "df_CustomerAddress['postcode'].value_counts().nlargest(10)"
   ]
  },
  {
   "cell_type": "markdown",
   "id": "18602224",
   "metadata": {
    "hidden": true
   },
   "source": [
    "#### state"
   ]
  },
  {
   "cell_type": "code",
   "execution_count": 290,
   "id": "ce29204d",
   "metadata": {
    "hidden": true
   },
   "outputs": [
    {
     "data": {
      "text/plain": [
       "NSW                2054\n",
       "VIC                 939\n",
       "QLD                 838\n",
       "New South Wales      86\n",
       "Victoria             82\n",
       "Name: state, dtype: int64"
      ]
     },
     "execution_count": 290,
     "metadata": {},
     "output_type": "execute_result"
    }
   ],
   "source": [
    "df_CustomerAddress['state'].value_counts()"
   ]
  },
  {
   "cell_type": "code",
   "execution_count": 291,
   "id": "7beab464",
   "metadata": {
    "hidden": true
   },
   "outputs": [],
   "source": [
    "df_CustomerAddress['state'].mask(df_CustomerAddress['state']=='VIC','Victoria',inplace=True)\n",
    "df_CustomerAddress['state'].mask(df_CustomerAddress['state']=='NSW','New South Wales',inplace=True)"
   ]
  },
  {
   "cell_type": "code",
   "execution_count": 292,
   "id": "046baa35",
   "metadata": {
    "hidden": true
   },
   "outputs": [
    {
     "data": {
      "text/plain": [
       "New South Wales    2140\n",
       "Victoria           1021\n",
       "QLD                 838\n",
       "Name: state, dtype: int64"
      ]
     },
     "execution_count": 292,
     "metadata": {},
     "output_type": "execute_result"
    }
   ],
   "source": [
    "df_CustomerAddress['state'].value_counts()"
   ]
  },
  {
   "cell_type": "markdown",
   "id": "6bdf7dba",
   "metadata": {
    "hidden": true
   },
   "source": [
    "#### country"
   ]
  },
  {
   "cell_type": "code",
   "execution_count": 293,
   "id": "09d46167",
   "metadata": {
    "hidden": true
   },
   "outputs": [
    {
     "data": {
      "text/plain": [
       "Australia    3999\n",
       "Name: country, dtype: int64"
      ]
     },
     "execution_count": 293,
     "metadata": {},
     "output_type": "execute_result"
    }
   ],
   "source": [
    "df_CustomerAddress['country'].value_counts()"
   ]
  },
  {
   "cell_type": "markdown",
   "id": "0c2e317f",
   "metadata": {
    "hidden": true
   },
   "source": [
    "#### property_valuation"
   ]
  },
  {
   "cell_type": "code",
   "execution_count": 294,
   "id": "0e931d49",
   "metadata": {
    "hidden": true
   },
   "outputs": [
    {
     "data": {
      "text/plain": [
       "1     154\n",
       "2     143\n",
       "3     186\n",
       "4     214\n",
       "5     225\n",
       "6     238\n",
       "7     493\n",
       "8     646\n",
       "9     647\n",
       "10    577\n",
       "11    281\n",
       "12    195\n",
       "Name: property_valuation, dtype: int64"
      ]
     },
     "execution_count": 294,
     "metadata": {},
     "output_type": "execute_result"
    }
   ],
   "source": [
    "df_CustomerAddress['property_valuation'].value_counts(sort = False)"
   ]
  },
  {
   "cell_type": "code",
   "execution_count": null,
   "id": "9d8e5e79",
   "metadata": {
    "hidden": true
   },
   "outputs": [],
   "source": []
  },
  {
   "cell_type": "markdown",
   "id": "55dfa00c",
   "metadata": {
    "hidden": true
   },
   "source": [
    "### Transactions"
   ]
  },
  {
   "cell_type": "code",
   "execution_count": 295,
   "id": "24c56a37",
   "metadata": {
    "hidden": true
   },
   "outputs": [
    {
     "data": {
      "text/html": [
       "<div>\n",
       "<style scoped>\n",
       "    .dataframe tbody tr th:only-of-type {\n",
       "        vertical-align: middle;\n",
       "    }\n",
       "\n",
       "    .dataframe tbody tr th {\n",
       "        vertical-align: top;\n",
       "    }\n",
       "\n",
       "    .dataframe thead th {\n",
       "        text-align: right;\n",
       "    }\n",
       "</style>\n",
       "<table border=\"1\" class=\"dataframe\">\n",
       "  <thead>\n",
       "    <tr style=\"text-align: right;\">\n",
       "      <th></th>\n",
       "      <th>transaction_id</th>\n",
       "      <th>product_id</th>\n",
       "      <th>customer_id</th>\n",
       "      <th>transaction_date</th>\n",
       "      <th>online_order</th>\n",
       "      <th>order_status</th>\n",
       "      <th>brand</th>\n",
       "      <th>product_line</th>\n",
       "      <th>product_class</th>\n",
       "      <th>product_size</th>\n",
       "      <th>list_price</th>\n",
       "      <th>standard_cost</th>\n",
       "      <th>product_first_sold_date</th>\n",
       "    </tr>\n",
       "  </thead>\n",
       "  <tbody>\n",
       "    <tr>\n",
       "      <th>0</th>\n",
       "      <td>1</td>\n",
       "      <td>2</td>\n",
       "      <td>2950</td>\n",
       "      <td>2017-02-25 00:00:00</td>\n",
       "      <td>False</td>\n",
       "      <td>Approved</td>\n",
       "      <td>Solex</td>\n",
       "      <td>Standard</td>\n",
       "      <td>medium</td>\n",
       "      <td>medium</td>\n",
       "      <td>71.49</td>\n",
       "      <td>53.62</td>\n",
       "      <td>41245</td>\n",
       "    </tr>\n",
       "    <tr>\n",
       "      <th>1</th>\n",
       "      <td>2</td>\n",
       "      <td>3</td>\n",
       "      <td>3120</td>\n",
       "      <td>2017-05-21 00:00:00</td>\n",
       "      <td>True</td>\n",
       "      <td>Approved</td>\n",
       "      <td>Trek Bicycles</td>\n",
       "      <td>Standard</td>\n",
       "      <td>medium</td>\n",
       "      <td>large</td>\n",
       "      <td>2091.47</td>\n",
       "      <td>388.92</td>\n",
       "      <td>41701</td>\n",
       "    </tr>\n",
       "    <tr>\n",
       "      <th>2</th>\n",
       "      <td>3</td>\n",
       "      <td>37</td>\n",
       "      <td>402</td>\n",
       "      <td>2017-10-16 00:00:00</td>\n",
       "      <td>False</td>\n",
       "      <td>Approved</td>\n",
       "      <td>OHM Cycles</td>\n",
       "      <td>Standard</td>\n",
       "      <td>low</td>\n",
       "      <td>medium</td>\n",
       "      <td>1793.43</td>\n",
       "      <td>248.82</td>\n",
       "      <td>36361</td>\n",
       "    </tr>\n",
       "    <tr>\n",
       "      <th>3</th>\n",
       "      <td>4</td>\n",
       "      <td>88</td>\n",
       "      <td>3135</td>\n",
       "      <td>2017-08-31 00:00:00</td>\n",
       "      <td>False</td>\n",
       "      <td>Approved</td>\n",
       "      <td>Norco Bicycles</td>\n",
       "      <td>Standard</td>\n",
       "      <td>medium</td>\n",
       "      <td>medium</td>\n",
       "      <td>1198.46</td>\n",
       "      <td>381.1</td>\n",
       "      <td>36145</td>\n",
       "    </tr>\n",
       "    <tr>\n",
       "      <th>4</th>\n",
       "      <td>5</td>\n",
       "      <td>78</td>\n",
       "      <td>787</td>\n",
       "      <td>2017-10-01 00:00:00</td>\n",
       "      <td>True</td>\n",
       "      <td>Approved</td>\n",
       "      <td>Giant Bicycles</td>\n",
       "      <td>Standard</td>\n",
       "      <td>medium</td>\n",
       "      <td>large</td>\n",
       "      <td>1765.3</td>\n",
       "      <td>709.48</td>\n",
       "      <td>42226</td>\n",
       "    </tr>\n",
       "  </tbody>\n",
       "</table>\n",
       "</div>"
      ],
      "text/plain": [
       "  transaction_id product_id customer_id     transaction_date online_order  \\\n",
       "0              1          2        2950  2017-02-25 00:00:00        False   \n",
       "1              2          3        3120  2017-05-21 00:00:00         True   \n",
       "2              3         37         402  2017-10-16 00:00:00        False   \n",
       "3              4         88        3135  2017-08-31 00:00:00        False   \n",
       "4              5         78         787  2017-10-01 00:00:00         True   \n",
       "\n",
       "  order_status           brand product_line product_class product_size  \\\n",
       "0     Approved           Solex     Standard        medium       medium   \n",
       "1     Approved   Trek Bicycles     Standard        medium        large   \n",
       "2     Approved      OHM Cycles     Standard           low       medium   \n",
       "3     Approved  Norco Bicycles     Standard        medium       medium   \n",
       "4     Approved  Giant Bicycles     Standard        medium        large   \n",
       "\n",
       "  list_price standard_cost product_first_sold_date  \n",
       "0      71.49         53.62                   41245  \n",
       "1    2091.47        388.92                   41701  \n",
       "2    1793.43        248.82                   36361  \n",
       "3    1198.46         381.1                   36145  \n",
       "4     1765.3        709.48                   42226  "
      ]
     },
     "execution_count": 295,
     "metadata": {},
     "output_type": "execute_result"
    }
   ],
   "source": [
    "# Selecting CustomerDemographic sheet\n",
    "df_Transactions =df_dict['Transactions']\n",
    "\n",
    "# changing first row to header\n",
    "df_Transactions.rename(columns=df_Transactions.iloc[0,:],inplace=True)\n",
    "\n",
    "# removing the first row which is already been used as header\n",
    "df_Transactions=df_Transactions.loc[1:,].reset_index(drop=True)\n",
    "\n",
    "# droping columns with having each row as NaN\n",
    "df_Transactions.dropna(axis=1,how='all',inplace=True)\n",
    "df_Transactions.head()\n"
   ]
  },
  {
   "cell_type": "code",
   "execution_count": 296,
   "id": "0e5864df",
   "metadata": {
    "hidden": true
   },
   "outputs": [
    {
     "data": {
      "text/html": [
       "<div>\n",
       "<style scoped>\n",
       "    .dataframe tbody tr th:only-of-type {\n",
       "        vertical-align: middle;\n",
       "    }\n",
       "\n",
       "    .dataframe tbody tr th {\n",
       "        vertical-align: top;\n",
       "    }\n",
       "\n",
       "    .dataframe thead th {\n",
       "        text-align: right;\n",
       "    }\n",
       "</style>\n",
       "<table border=\"1\" class=\"dataframe\">\n",
       "  <thead>\n",
       "    <tr style=\"text-align: right;\">\n",
       "      <th></th>\n",
       "      <th>transaction_id</th>\n",
       "      <th>product_id</th>\n",
       "      <th>customer_id</th>\n",
       "      <th>transaction_date</th>\n",
       "      <th>online_order</th>\n",
       "      <th>order_status</th>\n",
       "      <th>brand</th>\n",
       "      <th>product_line</th>\n",
       "      <th>product_class</th>\n",
       "      <th>product_size</th>\n",
       "      <th>list_price</th>\n",
       "      <th>standard_cost</th>\n",
       "      <th>product_first_sold_date</th>\n",
       "    </tr>\n",
       "  </thead>\n",
       "  <tbody>\n",
       "  </tbody>\n",
       "</table>\n",
       "</div>"
      ],
      "text/plain": [
       "Empty DataFrame\n",
       "Columns: [transaction_id, product_id, customer_id, transaction_date, online_order, order_status, brand, product_line, product_class, product_size, list_price, standard_cost, product_first_sold_date]\n",
       "Index: []"
      ]
     },
     "execution_count": 296,
     "metadata": {},
     "output_type": "execute_result"
    }
   ],
   "source": [
    "duplicate = df_Transactions[df_Transactions.duplicated()]\n",
    "duplicate"
   ]
  },
  {
   "cell_type": "code",
   "execution_count": 297,
   "id": "22604f9f",
   "metadata": {
    "hidden": true
   },
   "outputs": [
    {
     "name": "stdout",
     "output_type": "stream",
     "text": [
      "(20000, 13)\n",
      "transaction_id               0\n",
      "product_id                   0\n",
      "customer_id                  0\n",
      "transaction_date             0\n",
      "online_order               360\n",
      "order_status                 0\n",
      "brand                      197\n",
      "product_line               197\n",
      "product_class              197\n",
      "product_size               197\n",
      "list_price                   0\n",
      "standard_cost              197\n",
      "product_first_sold_date    197\n",
      "dtype: int64\n"
     ]
    }
   ],
   "source": [
    "print(df_Transactions.shape)\n",
    "print(df_Transactions.isnull().sum())"
   ]
  },
  {
   "cell_type": "markdown",
   "id": "f3e5191e",
   "metadata": {
    "hidden": true
   },
   "source": [
    "#### transaction_date"
   ]
  },
  {
   "cell_type": "code",
   "execution_count": 298,
   "id": "c9124cea",
   "metadata": {
    "hidden": true
   },
   "outputs": [],
   "source": [
    "#First you need to define the format of date column.\n",
    "\n",
    "df_Transactions['transaction_date'] = pd.to_datetime(df_Transactions['transaction_date'], format='%Y-%m-%d %H:%M:%S')\n",
    "df_Transactions['transaction_year'] = pd.DatetimeIndex(df_Transactions['transaction_date']).year\n",
    "df_Transactions['transaction_month'] = pd.DatetimeIndex(df_Transactions['transaction_date']).month\n",
    "df_Transactions['transaction_day'] = pd.DatetimeIndex(df_Transactions['transaction_date']).day"
   ]
  },
  {
   "cell_type": "code",
   "execution_count": 299,
   "id": "5e8f8250",
   "metadata": {
    "hidden": true
   },
   "outputs": [
    {
     "data": {
      "text/html": [
       "<div>\n",
       "<style scoped>\n",
       "    .dataframe tbody tr th:only-of-type {\n",
       "        vertical-align: middle;\n",
       "    }\n",
       "\n",
       "    .dataframe tbody tr th {\n",
       "        vertical-align: top;\n",
       "    }\n",
       "\n",
       "    .dataframe thead th {\n",
       "        text-align: right;\n",
       "    }\n",
       "</style>\n",
       "<table border=\"1\" class=\"dataframe\">\n",
       "  <thead>\n",
       "    <tr style=\"text-align: right;\">\n",
       "      <th></th>\n",
       "      <th>transaction_id</th>\n",
       "      <th>product_id</th>\n",
       "      <th>customer_id</th>\n",
       "      <th>transaction_date</th>\n",
       "      <th>online_order</th>\n",
       "      <th>order_status</th>\n",
       "      <th>brand</th>\n",
       "      <th>product_line</th>\n",
       "      <th>product_class</th>\n",
       "      <th>product_size</th>\n",
       "      <th>list_price</th>\n",
       "      <th>standard_cost</th>\n",
       "      <th>product_first_sold_date</th>\n",
       "      <th>transaction_year</th>\n",
       "      <th>transaction_month</th>\n",
       "      <th>transaction_day</th>\n",
       "    </tr>\n",
       "  </thead>\n",
       "  <tbody>\n",
       "    <tr>\n",
       "      <th>0</th>\n",
       "      <td>1</td>\n",
       "      <td>2</td>\n",
       "      <td>2950</td>\n",
       "      <td>2017-02-25</td>\n",
       "      <td>False</td>\n",
       "      <td>Approved</td>\n",
       "      <td>Solex</td>\n",
       "      <td>Standard</td>\n",
       "      <td>medium</td>\n",
       "      <td>medium</td>\n",
       "      <td>71.49</td>\n",
       "      <td>53.62</td>\n",
       "      <td>41245</td>\n",
       "      <td>2017</td>\n",
       "      <td>2</td>\n",
       "      <td>25</td>\n",
       "    </tr>\n",
       "    <tr>\n",
       "      <th>1</th>\n",
       "      <td>2</td>\n",
       "      <td>3</td>\n",
       "      <td>3120</td>\n",
       "      <td>2017-05-21</td>\n",
       "      <td>True</td>\n",
       "      <td>Approved</td>\n",
       "      <td>Trek Bicycles</td>\n",
       "      <td>Standard</td>\n",
       "      <td>medium</td>\n",
       "      <td>large</td>\n",
       "      <td>2091.47</td>\n",
       "      <td>388.92</td>\n",
       "      <td>41701</td>\n",
       "      <td>2017</td>\n",
       "      <td>5</td>\n",
       "      <td>21</td>\n",
       "    </tr>\n",
       "    <tr>\n",
       "      <th>2</th>\n",
       "      <td>3</td>\n",
       "      <td>37</td>\n",
       "      <td>402</td>\n",
       "      <td>2017-10-16</td>\n",
       "      <td>False</td>\n",
       "      <td>Approved</td>\n",
       "      <td>OHM Cycles</td>\n",
       "      <td>Standard</td>\n",
       "      <td>low</td>\n",
       "      <td>medium</td>\n",
       "      <td>1793.43</td>\n",
       "      <td>248.82</td>\n",
       "      <td>36361</td>\n",
       "      <td>2017</td>\n",
       "      <td>10</td>\n",
       "      <td>16</td>\n",
       "    </tr>\n",
       "  </tbody>\n",
       "</table>\n",
       "</div>"
      ],
      "text/plain": [
       "  transaction_id product_id customer_id transaction_date online_order  \\\n",
       "0              1          2        2950       2017-02-25        False   \n",
       "1              2          3        3120       2017-05-21         True   \n",
       "2              3         37         402       2017-10-16        False   \n",
       "\n",
       "  order_status          brand product_line product_class product_size  \\\n",
       "0     Approved          Solex     Standard        medium       medium   \n",
       "1     Approved  Trek Bicycles     Standard        medium        large   \n",
       "2     Approved     OHM Cycles     Standard           low       medium   \n",
       "\n",
       "  list_price standard_cost product_first_sold_date  transaction_year  \\\n",
       "0      71.49         53.62                   41245              2017   \n",
       "1    2091.47        388.92                   41701              2017   \n",
       "2    1793.43        248.82                   36361              2017   \n",
       "\n",
       "   transaction_month  transaction_day  \n",
       "0                  2               25  \n",
       "1                  5               21  \n",
       "2                 10               16  "
      ]
     },
     "execution_count": 299,
     "metadata": {},
     "output_type": "execute_result"
    }
   ],
   "source": [
    "df_Transactions.head(3)"
   ]
  },
  {
   "cell_type": "markdown",
   "id": "95aff207",
   "metadata": {
    "hidden": true
   },
   "source": [
    "#### online_order"
   ]
  },
  {
   "cell_type": "code",
   "execution_count": 300,
   "id": "71d6e150",
   "metadata": {
    "hidden": true
   },
   "outputs": [
    {
     "data": {
      "text/plain": [
       "True     9829\n",
       "False    9811\n",
       "Name: online_order, dtype: int64"
      ]
     },
     "execution_count": 300,
     "metadata": {},
     "output_type": "execute_result"
    }
   ],
   "source": [
    "df_Transactions['online_order'].value_counts()"
   ]
  },
  {
   "cell_type": "markdown",
   "id": "df1a6273",
   "metadata": {
    "hidden": true
   },
   "source": [
    "#### order_status"
   ]
  },
  {
   "cell_type": "code",
   "execution_count": 301,
   "id": "197a70be",
   "metadata": {
    "hidden": true
   },
   "outputs": [
    {
     "data": {
      "text/plain": [
       "Approved     19821\n",
       "Cancelled      179\n",
       "Name: order_status, dtype: int64"
      ]
     },
     "execution_count": 301,
     "metadata": {},
     "output_type": "execute_result"
    }
   ],
   "source": [
    "df_Transactions['order_status'].value_counts()"
   ]
  },
  {
   "cell_type": "markdown",
   "id": "ad9d0202",
   "metadata": {
    "hidden": true
   },
   "source": [
    "#### brand"
   ]
  },
  {
   "cell_type": "code",
   "execution_count": 302,
   "id": "9308ffad",
   "metadata": {
    "hidden": true
   },
   "outputs": [
    {
     "data": {
      "text/plain": [
       "Solex             4253\n",
       "Giant Bicycles    3312\n",
       "WeareA2B          3295\n",
       "OHM Cycles        3043\n",
       "Trek Bicycles     2990\n",
       "Norco Bicycles    2910\n",
       "Name: brand, dtype: int64"
      ]
     },
     "execution_count": 302,
     "metadata": {},
     "output_type": "execute_result"
    }
   ],
   "source": [
    "df_Transactions['brand'].value_counts()"
   ]
  },
  {
   "cell_type": "markdown",
   "id": "9387254c",
   "metadata": {
    "hidden": true
   },
   "source": [
    "#### product_line"
   ]
  },
  {
   "cell_type": "code",
   "execution_count": 303,
   "id": "f80b9cb7",
   "metadata": {
    "hidden": true
   },
   "outputs": [
    {
     "data": {
      "text/plain": [
       "Standard    14176\n",
       "Road         3970\n",
       "Touring      1234\n",
       "Mountain      423\n",
       "Name: product_line, dtype: int64"
      ]
     },
     "execution_count": 303,
     "metadata": {},
     "output_type": "execute_result"
    }
   ],
   "source": [
    "df_Transactions['product_line'].value_counts()"
   ]
  },
  {
   "cell_type": "markdown",
   "id": "1d3d311b",
   "metadata": {
    "hidden": true
   },
   "source": [
    "#### product_class"
   ]
  },
  {
   "cell_type": "code",
   "execution_count": 304,
   "id": "22704b34",
   "metadata": {
    "hidden": true
   },
   "outputs": [
    {
     "data": {
      "text/plain": [
       "medium    13826\n",
       "high       3013\n",
       "low        2964\n",
       "Name: product_class, dtype: int64"
      ]
     },
     "execution_count": 304,
     "metadata": {},
     "output_type": "execute_result"
    }
   ],
   "source": [
    "df_Transactions['product_class'].value_counts()"
   ]
  },
  {
   "cell_type": "markdown",
   "id": "fd1e337c",
   "metadata": {
    "hidden": true
   },
   "source": [
    "#### product_size"
   ]
  },
  {
   "cell_type": "code",
   "execution_count": 305,
   "id": "f84f799a",
   "metadata": {
    "hidden": true
   },
   "outputs": [
    {
     "data": {
      "text/plain": [
       "medium    12990\n",
       "large      3976\n",
       "small      2837\n",
       "Name: product_size, dtype: int64"
      ]
     },
     "execution_count": 305,
     "metadata": {},
     "output_type": "execute_result"
    }
   ],
   "source": [
    "df_Transactions['product_size'].value_counts()"
   ]
  },
  {
   "cell_type": "markdown",
   "id": "d2a6b560",
   "metadata": {
    "hidden": true
   },
   "source": [
    "#### list_price"
   ]
  },
  {
   "cell_type": "code",
   "execution_count": 306,
   "id": "969519aa",
   "metadata": {
    "hidden": true
   },
   "outputs": [
    {
     "data": {
      "text/plain": [
       "count    20000.000000\n",
       "mean      1107.321150\n",
       "std        582.788382\n",
       "min         12.000000\n",
       "10%        235.000000\n",
       "20%        533.000000\n",
       "30%        742.000000\n",
       "40%        980.000000\n",
       "50%       1163.000000\n",
       "60%       1289.000000\n",
       "70%       1469.000000\n",
       "80%       1762.000000\n",
       "90%       1873.000000\n",
       "max       2091.000000\n",
       "Name: list_price, dtype: float64"
      ]
     },
     "execution_count": 306,
     "metadata": {},
     "output_type": "execute_result"
    }
   ],
   "source": [
    "df_Transactions['list_price'].astype(int).describe(percentiles=[.1,.2,.3,.4,.5,.6,.7,.8,.9])"
   ]
  },
  {
   "cell_type": "markdown",
   "id": "58fe75a5",
   "metadata": {
    "hidden": true
   },
   "source": [
    "#### standard_cost"
   ]
  },
  {
   "cell_type": "code",
   "execution_count": 307,
   "id": "5e7666d1",
   "metadata": {
    "hidden": true
   },
   "outputs": [
    {
     "data": {
      "text/plain": [
       "count     19803.00\n",
       "unique      103.00\n",
       "top         388.92\n",
       "freq        465.00\n",
       "Name: standard_cost, dtype: float64"
      ]
     },
     "execution_count": 307,
     "metadata": {},
     "output_type": "execute_result"
    }
   ],
   "source": [
    "df_Transactions['standard_cost'].astype(int,errors='ignore').describe(percentiles=[.1,.2,.3,.4,.5,.6,.7,.8,.9])"
   ]
  },
  {
   "cell_type": "code",
   "execution_count": null,
   "id": "5f29e927",
   "metadata": {
    "hidden": true
   },
   "outputs": [],
   "source": []
  },
  {
   "cell_type": "code",
   "execution_count": null,
   "id": "83ab0206",
   "metadata": {
    "hidden": true
   },
   "outputs": [],
   "source": []
  },
  {
   "cell_type": "code",
   "execution_count": null,
   "id": "77fee0a0",
   "metadata": {
    "hidden": true
   },
   "outputs": [],
   "source": []
  },
  {
   "cell_type": "code",
   "execution_count": null,
   "id": "f837ab5c",
   "metadata": {
    "hidden": true
   },
   "outputs": [],
   "source": []
  },
  {
   "cell_type": "markdown",
   "id": "9bd074b7",
   "metadata": {
    "heading_collapsed": true
   },
   "source": [
    "# Join the dataset"
   ]
  },
  {
   "cell_type": "code",
   "execution_count": 369,
   "id": "d0967da0",
   "metadata": {
    "hidden": true,
    "scrolled": true
   },
   "outputs": [
    {
     "data": {
      "text/plain": [
       "(3999, 36)"
      ]
     },
     "execution_count": 369,
     "metadata": {},
     "output_type": "execute_result"
    }
   ],
   "source": [
    "final = pd.concat([df_Transactions, df_CustomerAddress, df_Customer_Demographic], axis=1, join='inner')\n",
    "final.shape"
   ]
  },
  {
   "cell_type": "markdown",
   "id": "149fd587",
   "metadata": {},
   "source": [
    "# Performing EDA"
   ]
  },
  {
   "cell_type": "code",
   "execution_count": 370,
   "id": "ca893061",
   "metadata": {},
   "outputs": [
    {
     "data": {
      "text/plain": [
       "(3999, 36)"
      ]
     },
     "execution_count": 370,
     "metadata": {},
     "output_type": "execute_result"
    }
   ],
   "source": [
    "final.shape"
   ]
  },
  {
   "cell_type": "code",
   "execution_count": 371,
   "id": "2c804c1a",
   "metadata": {},
   "outputs": [
    {
     "data": {
      "text/plain": [
       "transaction_id                                 object\n",
       "product_id                                     object\n",
       "customer_id                                    object\n",
       "transaction_date                       datetime64[ns]\n",
       "online_order                                   object\n",
       "order_status                                   object\n",
       "brand                                          object\n",
       "product_line                                   object\n",
       "product_class                                  object\n",
       "product_size                                   object\n",
       "list_price                                     object\n",
       "standard_cost                                  object\n",
       "product_first_sold_date                        object\n",
       "transaction_year                                int64\n",
       "transaction_month                               int64\n",
       "transaction_day                                 int64\n",
       "customer_id                                    object\n",
       "address                                        object\n",
       "postcode                                       object\n",
       "state                                          object\n",
       "country                                        object\n",
       "property_valuation                             object\n",
       "customer_id                                    object\n",
       "first_name                                     object\n",
       "last_name                                      object\n",
       "gender                                         object\n",
       "past_3_years_bike_related_purchases            object\n",
       "DOB                                    datetime64[ns]\n",
       "job_title                                      object\n",
       "job_industry_category                          object\n",
       "wealth_segment                                 object\n",
       "deceased_indicator                             object\n",
       "owns_car                                       object\n",
       "tenure                                         object\n",
       "Age                                           float64\n",
       "Age_group                                      object\n",
       "dtype: object"
      ]
     },
     "execution_count": 371,
     "metadata": {},
     "output_type": "execute_result"
    }
   ],
   "source": [
    "final.dtypes"
   ]
  },
  {
   "cell_type": "code",
   "execution_count": 372,
   "id": "c3dfdb82",
   "metadata": {},
   "outputs": [
    {
     "data": {
      "text/plain": [
       "transaction_id                           0\n",
       "product_id                               0\n",
       "customer_id                              0\n",
       "transaction_date                         0\n",
       "online_order                            59\n",
       "order_status                             0\n",
       "brand                                   23\n",
       "product_line                            23\n",
       "product_class                           23\n",
       "product_size                            23\n",
       "list_price                               0\n",
       "standard_cost                           23\n",
       "product_first_sold_date                 23\n",
       "transaction_year                         0\n",
       "transaction_month                        0\n",
       "transaction_day                          0\n",
       "customer_id                              0\n",
       "address                                  0\n",
       "postcode                                 0\n",
       "state                                    0\n",
       "country                                  0\n",
       "property_valuation                       0\n",
       "customer_id                              0\n",
       "first_name                               0\n",
       "last_name                              125\n",
       "gender                                   0\n",
       "past_3_years_bike_related_purchases      0\n",
       "DOB                                     87\n",
       "job_title                              506\n",
       "job_industry_category                  655\n",
       "wealth_segment                           0\n",
       "deceased_indicator                       0\n",
       "owns_car                                 0\n",
       "tenure                                  87\n",
       "Age                                     87\n",
       "Age_group                               88\n",
       "dtype: int64"
      ]
     },
     "execution_count": 372,
     "metadata": {},
     "output_type": "execute_result"
    }
   ],
   "source": [
    "final.isnull().sum()"
   ]
  },
  {
   "cell_type": "code",
   "execution_count": 373,
   "id": "a85039a8",
   "metadata": {
    "scrolled": true
   },
   "outputs": [
    {
     "data": {
      "text/plain": [
       "(2720, 36)"
      ]
     },
     "execution_count": 373,
     "metadata": {},
     "output_type": "execute_result"
    }
   ],
   "source": [
    "final.dropna().shape"
   ]
  },
  {
   "cell_type": "code",
   "execution_count": 374,
   "id": "758202b3",
   "metadata": {},
   "outputs": [
    {
     "data": {
      "text/plain": [
       "array(['New South Wales', 'QLD', 'Victoria'], dtype=object)"
      ]
     },
     "execution_count": 374,
     "metadata": {},
     "output_type": "execute_result"
    }
   ],
   "source": [
    "final.state.unique()"
   ]
  },
  {
   "cell_type": "markdown",
   "id": "fcfb52f4",
   "metadata": {},
   "source": [
    "#### Removing not required features"
   ]
  },
  {
   "cell_type": "code",
   "execution_count": 375,
   "id": "11470482",
   "metadata": {
    "scrolled": true
   },
   "outputs": [
    {
     "data": {
      "text/plain": [
       "Index(['transaction_id', 'product_id', 'customer_id', 'transaction_date',\n",
       "       'online_order', 'order_status', 'brand', 'product_line',\n",
       "       'product_class', 'product_size', 'list_price', 'standard_cost',\n",
       "       'product_first_sold_date', 'transaction_year', 'transaction_month',\n",
       "       'transaction_day', 'customer_id', 'address', 'postcode', 'state',\n",
       "       'country', 'property_valuation', 'customer_id', 'first_name',\n",
       "       'last_name', 'gender', 'past_3_years_bike_related_purchases', 'DOB',\n",
       "       'job_title', 'job_industry_category', 'wealth_segment',\n",
       "       'deceased_indicator', 'owns_car', 'tenure', 'Age', 'Age_group'],\n",
       "      dtype='object')"
      ]
     },
     "execution_count": 375,
     "metadata": {},
     "output_type": "execute_result"
    }
   ],
   "source": [
    "final.columns"
   ]
  },
  {
   "cell_type": "code",
   "execution_count": 376,
   "id": "e863125c",
   "metadata": {},
   "outputs": [],
   "source": [
    "final.drop(columns=['product_id' ,'customer_id','country','DOB'],inplace=True)"
   ]
  },
  {
   "cell_type": "code",
   "execution_count": 377,
   "id": "5ad0991e",
   "metadata": {},
   "outputs": [
    {
     "data": {
      "text/plain": [
       "Index(['transaction_id', 'transaction_date', 'online_order', 'order_status',\n",
       "       'brand', 'product_line', 'product_class', 'product_size', 'list_price',\n",
       "       'standard_cost', 'product_first_sold_date', 'transaction_year',\n",
       "       'transaction_month', 'transaction_day', 'address', 'postcode', 'state',\n",
       "       'property_valuation', 'first_name', 'last_name', 'gender',\n",
       "       'past_3_years_bike_related_purchases', 'job_title',\n",
       "       'job_industry_category', 'wealth_segment', 'deceased_indicator',\n",
       "       'owns_car', 'tenure', 'Age', 'Age_group'],\n",
       "      dtype='object')"
      ]
     },
     "execution_count": 377,
     "metadata": {},
     "output_type": "execute_result"
    }
   ],
   "source": [
    "final.columns"
   ]
  },
  {
   "cell_type": "markdown",
   "id": "61a9d263",
   "metadata": {},
   "source": [
    "#### Converting dates to Month name"
   ]
  },
  {
   "cell_type": "code",
   "execution_count": 378,
   "id": "6ec6734a",
   "metadata": {},
   "outputs": [],
   "source": [
    "#First you need to define the format of date column.\n",
    "final['transaction_date'] = pd.to_datetime(final['transaction_date'], format='%Y-%m-%d %H:%M:%S')"
   ]
  },
  {
   "cell_type": "code",
   "execution_count": 379,
   "id": "ca027ff6",
   "metadata": {},
   "outputs": [],
   "source": [
    "import datetime\n",
    "def months(mn):\n",
    "    #provide month number\n",
    "    mn=str(mn)\n",
    "    datetime_object = datetime.datetime.strptime(mn, \"%m\")\n",
    "    full_month_name = datetime_object.strftime(\"%B\")\n",
    "    return full_month_name"
   ]
  },
  {
   "cell_type": "code",
   "execution_count": 380,
   "id": "d6418270",
   "metadata": {
    "scrolled": true
   },
   "outputs": [],
   "source": [
    "final['transaction_month']=final['transaction_month'].apply(months)"
   ]
  },
  {
   "cell_type": "code",
   "execution_count": 381,
   "id": "a432aacc",
   "metadata": {},
   "outputs": [
    {
     "data": {
      "text/plain": [
       "0       February\n",
       "1            May\n",
       "2        October\n",
       "3         August\n",
       "4        October\n",
       "          ...   \n",
       "3994      August\n",
       "3995     October\n",
       "3996         May\n",
       "3997    November\n",
       "3998       April\n",
       "Name: transaction_month, Length: 3999, dtype: object"
      ]
     },
     "execution_count": 381,
     "metadata": {},
     "output_type": "execute_result"
    }
   ],
   "source": [
    "final['transaction_month']"
   ]
  },
  {
   "cell_type": "markdown",
   "id": "0cfc5a07",
   "metadata": {},
   "source": [
    "#### Converting dates to Days of the week"
   ]
  },
  {
   "cell_type": "code",
   "execution_count": 382,
   "id": "2d966c7b",
   "metadata": {},
   "outputs": [],
   "source": [
    "\n",
    "from datetime import datetime as date\n",
    "#First you need to define the format of date column.\n",
    "final['transaction_day'] = pd.to_datetime(final['transaction_date'], format='%Y-%m-%d %H:%M:%S').dt.day_name()"
   ]
  },
  {
   "cell_type": "code",
   "execution_count": 383,
   "id": "891add72",
   "metadata": {
    "scrolled": true
   },
   "outputs": [
    {
     "data": {
      "text/plain": [
       "0        Saturday\n",
       "1          Sunday\n",
       "2          Monday\n",
       "3        Thursday\n",
       "4          Sunday\n",
       "          ...    \n",
       "3994      Tuesday\n",
       "3995       Friday\n",
       "3996    Wednesday\n",
       "3997     Thursday\n",
       "3998       Friday\n",
       "Name: transaction_day, Length: 3999, dtype: object"
      ]
     },
     "execution_count": 383,
     "metadata": {},
     "output_type": "execute_result"
    }
   ],
   "source": [
    "final['transaction_day']"
   ]
  },
  {
   "cell_type": "code",
   "execution_count": 384,
   "id": "26e182c0",
   "metadata": {},
   "outputs": [],
   "source": [
    "final.to_csv('Combine.csv')"
   ]
  }
 ],
 "metadata": {
  "kernelspec": {
   "display_name": "Python 3 (ipykernel)",
   "language": "python",
   "name": "python3"
  },
  "language_info": {
   "codemirror_mode": {
    "name": "ipython",
    "version": 3
   },
   "file_extension": ".py",
   "mimetype": "text/x-python",
   "name": "python",
   "nbconvert_exporter": "python",
   "pygments_lexer": "ipython3",
   "version": "3.10.9"
  },
  "toc": {
   "base_numbering": 1,
   "nav_menu": {},
   "number_sections": true,
   "sideBar": true,
   "skip_h1_title": false,
   "title_cell": "Table of Contents",
   "title_sidebar": "Contents",
   "toc_cell": false,
   "toc_position": {},
   "toc_section_display": true,
   "toc_window_display": false
  }
 },
 "nbformat": 4,
 "nbformat_minor": 5
}
